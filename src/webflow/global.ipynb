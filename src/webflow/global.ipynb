{
 "cells": [
  {
   "cell_type": "code",
   "execution_count": null,
   "metadata": {
    "vscode": {
     "languageId": "html"
    }
   },
   "outputs": [],
   "source": [
    "JS | Header (End)\n",
    "_________________\n",
    "\n",
    "<script src=\"https://anobel-en-zn.netlify.app/index.js\" \n",
    "test-src=\"https://anobel-en-zn-dev.netlify.app/index.js\"\n",
    "dev-src=\"http://127.0.0.1:3000/dist/index.js\"></script>"
   ]
  },
  {
   "cell_type": "code",
   "execution_count": null,
   "metadata": {
    "vscode": {
     "languageId": "html"
    }
   },
   "outputs": [],
   "source": [
    "JS | Footer (Before)\n",
    "____________________"
   ]
  }
 ],
 "metadata": {
  "language_info": {
   "name": "python"
  }
 },
 "nbformat": 4,
 "nbformat_minor": 2
}
